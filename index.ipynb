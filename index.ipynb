{
  "nbformat": 4,
  "nbformat_minor": 0,
  "metadata": {
    "colab": {
      "provenance": [],
      "toc_visible": true,
      "authorship_tag": "ABX9TyNDoK1qAgdkg6kP97VakB5R",
      "include_colab_link": true
    },
    "kernelspec": {
      "name": "python3",
      "display_name": "Python 3"
    },
    "language_info": {
      "name": "python"
    }
  },
  "cells": [
    {
      "cell_type": "markdown",
      "metadata": {
        "id": "view-in-github",
        "colab_type": "text"
      },
      "source": [
        "<a href=\"https://colab.research.google.com/github/badiibayoudh/Machine-learning/blob/main/index.ipynb\" target=\"_parent\"><img src=\"https://colab.research.google.com/assets/colab-badge.svg\" alt=\"Open In Colab\"/></a>"
      ]
    },
    {
      "cell_type": "code",
      "execution_count": null,
      "metadata": {
        "id": "NT3S11sP_fNM"
      },
      "outputs": [],
      "source": []
    },
    {
      "cell_type": "markdown",
      "source": [
        "*kursiver Text*# Neuer Abschnitt\n",
        "\n",
        "> Blockzitat einfügen\n",
        "\n"
      ],
      "metadata": {
        "id": "Sb75klVLAOe2"
      }
    },
    {
      "cell_type": "markdown",
      "source": [
        "# Linear Algebra\n",
        "# Differential Calculus"
      ],
      "metadata": {
        "id": "HQyowyrgAREn"
      }
    },
    {
      "cell_type": "markdown",
      "source": [
        "# Neuer Abschnitt"
      ],
      "metadata": {
        "id": "fbTQ2wYUAO8F"
      }
    }
  ]
}