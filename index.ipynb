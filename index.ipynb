{
  "nbformat": 4,
  "nbformat_minor": 0,
  "metadata": {
    "colab": {
      "provenance": [],
      "toc_visible": true,
      "authorship_tag": "ABX9TyOHTbltur1GwTUCmlAPQcYH",
      "include_colab_link": true
    },
    "kernelspec": {
      "name": "python3",
      "display_name": "Python 3"
    },
    "language_info": {
      "name": "python"
    }
  },
  "cells": [
    {
      "cell_type": "markdown",
      "metadata": {
        "id": "view-in-github",
        "colab_type": "text"
      },
      "source": [
        "<a href=\"https://colab.research.google.com/github/badiibayoudh/Machine-learning/blob/main/index.ipynb\" target=\"_parent\"><img src=\"https://colab.research.google.com/assets/colab-badge.svg\" alt=\"Open In Colab\"/></a>"
      ]
    },
    {
      "cell_type": "markdown",
      "source": [
        "# Scientific Python tutorials\n",
        "[Scientific python librairies](scientific_python_tutos.ipynb)\n",
        "\n"
      ],
      "metadata": {
        "id": "4DPSS-rXf48e"
      }
    },
    {
      "cell_type": "markdown",
      "source": [
        "# Linear Algebra\n",
        "[Linear algebra](linear_algebra.ipynb)"
      ],
      "metadata": {
        "id": "_MUR4-wzpSWN"
      }
    },
    {
      "cell_type": "markdown",
      "source": [
        "# Differential Calculus\n",
        "[Differential Calculus](differential_calculus.ipynb)"
      ],
      "metadata": {
        "id": "WrZgInifpg69"
      }
    },
    {
      "cell_type": "markdown",
      "source": [
        "# Machine Learning techniques"
      ],
      "metadata": {
        "id": "QDDJf3HIDVpO"
      }
    },
    {
      "cell_type": "code",
      "source": [],
      "metadata": {
        "id": "VI3Y7kfHp7ai"
      },
      "execution_count": null,
      "outputs": []
    }
  ]
}