{
  "nbformat": 4,
  "nbformat_minor": 0,
  "metadata": {
    "colab": {
      "provenance": [],
      "toc_visible": true,
      "authorship_tag": "ABX9TyOpcLlnHziggUwHWEXNuj2V",
      "include_colab_link": true
    },
    "kernelspec": {
      "name": "python3",
      "display_name": "Python 3"
    },
    "language_info": {
      "name": "python"
    }
  },
  "cells": [
    {
      "cell_type": "markdown",
      "metadata": {
        "id": "view-in-github",
        "colab_type": "text"
      },
      "source": [
        "<a href=\"https://colab.research.google.com/github/badiibayoudh/Machine-learning/blob/main/scientific_python_tutos.ipynb\" target=\"_parent\"><img src=\"https://colab.research.google.com/assets/colab-badge.svg\" alt=\"Open In Colab\"/></a>"
      ]
    },
    {
      "cell_type": "markdown",
      "source": [
        "# Python\n",
        "In Tuto used Python data structures:\n",
        "\n",
        "**Tuple**: builtIn, immutable, homogenous\n",
        "\n",
        "**List**: builtIn, mutable, heterogen\n",
        "\n",
        "**Array**: not builtIn, mutable, homogenous"
      ],
      "metadata": {
        "id": "RrZ2zhmbg1r9"
      }
    },
    {
      "cell_type": "markdown",
      "source": [
        "# Scientific python librairies"
      ],
      "metadata": {
        "id": "DYjygkebhHZl"
      }
    },
    {
      "cell_type": "markdown",
      "source": [
        "## numpy\n"
      ],
      "metadata": {
        "id": "qu_SKXzve7wU"
      }
    },
    {
      "cell_type": "markdown",
      "source": [
        "## Mathplotlib"
      ],
      "metadata": {
        "id": "hzCbc5lxfbcd"
      }
    },
    {
      "cell_type": "markdown",
      "source": [
        "## Panda"
      ],
      "metadata": {
        "id": "cnwwMqCrfmH9"
      }
    }
  ]
}